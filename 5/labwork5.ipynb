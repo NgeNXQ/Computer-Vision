{
 "cells": [
  {
   "cell_type": "markdown",
   "metadata": {},
   "source": [
    "# Лабораторна робота № 5"
   ]
  },
  {
   "cell_type": "markdown",
   "metadata": {},
   "source": [
    "## ІП-14 Бабіч Денис (09.07.2003)"
   ]
  },
  {
   "cell_type": "markdown",
   "metadata": {},
   "source": [
    "---"
   ]
  },
  {
   "cell_type": "markdown",
   "metadata": {},
   "source": [
    "# Підготовчий етап"
   ]
  },
  {
   "cell_type": "markdown",
   "metadata": {},
   "source": [
    "## Імпортування необхідних модулів"
   ]
  },
  {
   "cell_type": "code",
   "execution_count": 1,
   "metadata": {},
   "outputs": [],
   "source": [
    "import cv2\n",
    "import numpy as np"
   ]
  },
  {
   "cell_type": "markdown",
   "metadata": {},
   "source": [
    "## Створення допоміжних функцій"
   ]
  },
  {
   "cell_type": "code",
   "execution_count": 2,
   "metadata": {},
   "outputs": [],
   "source": [
    "def load_image(relative_path: str) -> np.array:\n",
    "    return cv2.imread(relative_path)\n",
    "\n",
    "def show_image(image: np.array, title: str = \"Preview\") -> None:\n",
    "    cv2.namedWindow(title, cv2.WINDOW_NORMAL)\n",
    "    cv2.imshow(title, image)\n",
    "    cv2.waitKey(0)\n",
    "    cv2.destroyAllWindows()\n",
    "\n",
    "def preprocess_image(image: np.ndarray, kernel_size: int) -> np.ndarray: \n",
    "    kernel = cv2.getStructuringElement(cv2.MORPH_ELLIPSE, (kernel_size, kernel_size))\n",
    "\n",
    "    preprocessed_frame = cv2.morphologyEx(image, cv2.MORPH_CLOSE, kernel)\n",
    "    preprocessed_frame = cv2.erode(preprocessed_frame, kernel, iterations = 1)\n",
    "    preprocessed_frame = cv2.dilate(preprocessed_frame, kernel, iterations = 1)\n",
    "\n",
    "    return preprocessed_frame\n",
    "\n",
    "def apply_color_filtering_mask(image_stock: np.array, image_preprocessed: np.array, exclude_color_bottom_bound: tuple, exclude_color_upper_bound: tuple, roi_color: tuple = (0, 255, 0), roi_transparency: int = 60) -> tuple: \n",
    "    mask = cv2.bitwise_not(cv2.inRange(image_preprocessed, exclude_color_bottom_bound, exclude_color_upper_bound))\n",
    "\n",
    "    contours, _ = cv2.findContours(mask, cv2.RETR_EXTERNAL, cv2.CHAIN_APPROX_SIMPLE)\n",
    "\n",
    "    overlay = image_stock.copy()\n",
    "    cv2.fillPoly(overlay, contours, roi_color)\n",
    "    cv2.addWeighted(overlay, roi_transparency / 100, image_stock, 1 - roi_transparency / 100, 0, image_stock)\n",
    "\n",
    "    return (image_stock, mask)\n",
    "\n",
    "def overlay_objects_contours(image_stock: np.array, mask: np.array, width_min: int, height_min: int, width_max: int, height_max: int, roi_title: str, roi_color: tuple = (0, 255, 0), roi_thickness: int = 2) -> np.ndarray:\n",
    "    ROI_TITLE_OFFSET = 10\n",
    "\n",
    "    FONT_SCALE = 1.25\n",
    "\n",
    "    contours, _ = cv2.findContours(mask, cv2.RETR_EXTERNAL, cv2.CHAIN_APPROX_SIMPLE)\n",
    "\n",
    "    for contour in contours:\n",
    "        x, y, width, height = cv2.boundingRect(contour)\n",
    "\n",
    "        if (width_min < width < width_max) and (height_min < height < height_max):\n",
    "            cv2.rectangle(image_stock, (x, y), (x + width, y + height), roi_color, roi_thickness)\n",
    "            cv2.putText(image_stock, roi_title, (x, y - ROI_TITLE_OFFSET), cv2.FONT_HERSHEY_COMPLEX_SMALL, FONT_SCALE, roi_color, roi_thickness)\n",
    "\n",
    "    return image_stock"
   ]
  },
  {
   "cell_type": "markdown",
   "metadata": {},
   "source": [
    "---"
   ]
  },
  {
   "cell_type": "markdown",
   "metadata": {},
   "source": [
    "# Основний етап"
   ]
  },
  {
   "cell_type": "markdown",
   "metadata": {},
   "source": [
    "## Зображення з високою роздільною здатністю"
   ]
  },
  {
   "cell_type": "code",
   "execution_count": 3,
   "metadata": {},
   "outputs": [],
   "source": [
    "KERNEL_SIZE = 10\n",
    "\n",
    "COLOR_BOTTOM_BOUND = (0, 0, 0)\n",
    "COLOR_UPPER_BOUND = (255, 255, 50)\n",
    "\n",
    "WIDTH_MIN = 10\n",
    "HEIGHT_MIN = 10\n",
    "WIDTH_MAX = 1000\n",
    "HEIGHT_MAX = 1000\n",
    "\n",
    "ROI_TITLE = \"Island\"\n",
    "\n",
    "image = load_image(\"image_high_resolution.png\")\n",
    "\n",
    "preprocessed_image = preprocess_image(image, KERNEL_SIZE)\n",
    "\n",
    "processed_image, mask = apply_color_filtering_mask(image, preprocessed_image, COLOR_BOTTOM_BOUND, COLOR_UPPER_BOUND)\n",
    "\n",
    "processed_image = overlay_objects_contours(image, mask, WIDTH_MIN, HEIGHT_MIN, WIDTH_MAX, HEIGHT_MAX, ROI_TITLE)\n",
    "\n",
    "show_image(processed_image)"
   ]
  },
  {
   "cell_type": "markdown",
   "metadata": {},
   "source": [
    "## Зображення з низькою роздільною здатністю"
   ]
  },
  {
   "cell_type": "code",
   "execution_count": 4,
   "metadata": {},
   "outputs": [],
   "source": [
    "KERNEL_SIZE = 5\n",
    "\n",
    "COLOR_BOTTOM_BOUND = (0, 0, 0)\n",
    "COLOR_UPPER_BOUND = (255, 255, 100)\n",
    "\n",
    "WIDTH_MIN = 10\n",
    "HEIGHT_MIN = 10\n",
    "WIDTH_MAX = 1000\n",
    "HEIGHT_MAX = 1000\n",
    "\n",
    "ROI_TITLE = \"Island\"\n",
    "\n",
    "image = load_image(\"image_low_resolution.png\")\n",
    "\n",
    "preprocessed_image = preprocess_image(image, KERNEL_SIZE)\n",
    "\n",
    "processed_image, mask = apply_color_filtering_mask(image, preprocessed_image, COLOR_BOTTOM_BOUND, COLOR_UPPER_BOUND)\n",
    "\n",
    "processed_image = overlay_objects_contours(image, mask, WIDTH_MIN, HEIGHT_MIN, WIDTH_MAX, HEIGHT_MAX, ROI_TITLE)\n",
    "\n",
    "show_image(processed_image)"
   ]
  }
 ],
 "metadata": {
  "kernelspec": {
   "display_name": "Python 3",
   "language": "python",
   "name": "python3"
  },
  "language_info": {
   "codemirror_mode": {
    "name": "ipython",
    "version": 3
   },
   "file_extension": ".py",
   "mimetype": "text/x-python",
   "name": "python",
   "nbconvert_exporter": "python",
   "pygments_lexer": "ipython3",
   "version": "3.11.0"
  }
 },
 "nbformat": 4,
 "nbformat_minor": 2
}
