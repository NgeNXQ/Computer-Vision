{
 "cells": [
  {
   "cell_type": "markdown",
   "metadata": {},
   "source": [
    "# Лабораторна робота № 4"
   ]
  },
  {
   "cell_type": "markdown",
   "metadata": {},
   "source": [
    "## ІП-14 Бабіч Денис (09.07.2003)"
   ]
  },
  {
   "cell_type": "markdown",
   "metadata": {},
   "source": [
    "---"
   ]
  },
  {
   "cell_type": "markdown",
   "metadata": {},
   "source": [
    "# Підготовчий етап"
   ]
  },
  {
   "cell_type": "markdown",
   "metadata": {},
   "source": [
    "## Імпортування необхідних модулів"
   ]
  },
  {
   "cell_type": "code",
   "execution_count": 1,
   "metadata": {},
   "outputs": [],
   "source": [
    "import cv2\n",
    "import numpy as np"
   ]
  },
  {
   "cell_type": "markdown",
   "metadata": {},
   "source": [
    "## Створення необхідних функцій"
   ]
  },
  {
   "cell_type": "code",
   "execution_count": 22,
   "metadata": {},
   "outputs": [],
   "source": [
    "def preprocess_frame(frame: np.ndarray, kernel_size: int, threshold1: float, threshold2: float, roi_vertices: list = None) -> np.ndarray:\n",
    "    preprocessed_frame = cv2.cvtColor(frame, cv2.COLOR_BGR2GRAY)\n",
    "\n",
    "    if roi_vertices is not None:\n",
    "        mask = np.zeros_like(preprocessed_frame)\n",
    "        cv2.fillPoly(mask, np.array([roi_vertices], dtype = np.int32), 255)\n",
    "        preprocessed_frame = cv2.bitwise_and(preprocessed_frame, mask)\n",
    "\n",
    "    preprocessed_frame = cv2.GaussianBlur(preprocessed_frame, (kernel_size, kernel_size), 0)\n",
    "    preprocessed_frame = cv2.Canny(preprocessed_frame, threshold1, threshold2)\n",
    "\n",
    "    return preprocessed_frame\n",
    "\n",
    "def determine_obejcts_rectangles(frame: np.ndarray, roi_min: int, roi_max: int, threshold: float = 127) -> list:\n",
    "    MAXVAL = 255\n",
    "\n",
    "    objects_rectangles = []\n",
    "\n",
    "    _, binary_frame = cv2.threshold(frame, threshold, MAXVAL, cv2.THRESH_BINARY)\n",
    "    contours, _ = cv2.findContours(binary_frame, cv2.RETR_EXTERNAL, cv2.CHAIN_APPROX_SIMPLE)\n",
    "    \n",
    "    for contour in contours:\n",
    "        area = cv2.contourArea(contour)\n",
    "        \n",
    "        if roi_min < area < roi_max:\n",
    "            x, y, width, height = cv2.boundingRect(contour)\n",
    "            objects_rectangles.append((x, y, width, height))\n",
    "\n",
    "    return objects_rectangles\n",
    "\n",
    "def overlay_objects_rectangles(frame: np.ndarray, rectangles: list, roi_title: str = \"\", color: tuple = (0, 255, 0), thickness: int = 2) -> np.ndarray:\n",
    "    ROI_TITLE_OFFSET = 10\n",
    "    \n",
    "    for (x, y, width, height) in rectangles:\n",
    "        cv2.rectangle(frame, (x, y), (x + width, y + height), color, thickness)\n",
    "\n",
    "        if roi_title:\n",
    "            cv2.putText(frame, roi_title, (x, y - ROI_TITLE_OFFSET), cv2.FONT_HERSHEY_SIMPLEX, 0.5, color, 2)\n",
    "\n",
    "    return frame"
   ]
  },
  {
   "cell_type": "markdown",
   "metadata": {},
   "source": [
    "---"
   ]
  },
  {
   "cell_type": "markdown",
   "metadata": {},
   "source": [
    "# Основний етап"
   ]
  },
  {
   "cell_type": "markdown",
   "metadata": {},
   "source": [
    "## Застосування на прикладі відео"
   ]
  },
  {
   "cell_type": "code",
   "execution_count": 48,
   "metadata": {},
   "outputs": [],
   "source": [
    "KEY_ESCAPE = 27\n",
    "\n",
    "KERNEL_SIZE = 15\n",
    "THRESHOLD_1 = 100\n",
    "THRESHOLD_2 = 100\n",
    "\n",
    "ROI_MIN = 100\n",
    "ROI_MAX = 250\n",
    "\n",
    "ROI_TITLE = \"Car\"\n",
    "\n",
    "capture = cv2.VideoCapture(\"video.mp4\")\n",
    "\n",
    "_, frame = capture.read()\n",
    "\n",
    "HEIGHT, WIDTH = frame.shape[:2]\n",
    "\n",
    "THIRD_WIDTH = WIDTH // 3\n",
    "HALF_HEIGHT = HEIGHT // 2\n",
    "THIRD_HEIGHT =  HEIGHT // 3\n",
    "\n",
    "ROI_VERTICES = np.array([\n",
    "    (0, HEIGHT),\n",
    "    (THIRD_WIDTH, THIRD_HEIGHT),\n",
    "    (WIDTH - THIRD_WIDTH, THIRD_HEIGHT),\n",
    "    (WIDTH, HEIGHT)\n",
    "], dtype = np.int32)\n",
    "\n",
    "while capture.isOpened():\n",
    "    ret, frame = capture.read()\n",
    "\n",
    "    if not ret:\n",
    "        break\n",
    "\n",
    "    preprocessed_frame = preprocess_frame(frame, KERNEL_SIZE, THRESHOLD_1, THRESHOLD_2, ROI_VERTICES)\n",
    "    roi_rectangles = determine_obejcts_rectangles(preprocessed_frame, ROI_MIN, ROI_MAX)\n",
    "    processed_frame = overlay_objects_rectangles(frame, roi_rectangles, ROI_TITLE)\n",
    "\n",
    "    cv2.imshow(\"\", preprocessed_frame)\n",
    "\n",
    "    if cv2.waitKey(25) & 0xFF == KEY_ESCAPE:\n",
    "        break\n",
    "\n",
    "capture.release()\n",
    "cv2.destroyAllWindows()"
   ]
  }
 ],
 "metadata": {
  "kernelspec": {
   "display_name": "Python 3",
   "language": "python",
   "name": "python3"
  },
  "language_info": {
   "codemirror_mode": {
    "name": "ipython",
    "version": 3
   },
   "file_extension": ".py",
   "mimetype": "text/x-python",
   "name": "python",
   "nbconvert_exporter": "python",
   "pygments_lexer": "ipython3",
   "version": "3.12.2"
  }
 },
 "nbformat": 4,
 "nbformat_minor": 2
}
