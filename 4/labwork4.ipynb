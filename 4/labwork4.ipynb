{
 "cells": [
  {
   "cell_type": "markdown",
   "metadata": {},
   "source": [
    "# Лабораторна робота № 4"
   ]
  },
  {
   "cell_type": "markdown",
   "metadata": {},
   "source": [
    "## ІП-14 Бабіч Денис (09.07.2003)"
   ]
  },
  {
   "cell_type": "markdown",
   "metadata": {},
   "source": [
    "---"
   ]
  },
  {
   "cell_type": "markdown",
   "metadata": {},
   "source": [
    "# Підготовчий етап"
   ]
  },
  {
   "cell_type": "markdown",
   "metadata": {},
   "source": [
    "## Імпортування необхідних модулів"
   ]
  },
  {
   "cell_type": "code",
   "execution_count": 1,
   "metadata": {},
   "outputs": [],
   "source": [
    "import cv2\n",
    "import numpy as np"
   ]
  },
  {
   "cell_type": "markdown",
   "metadata": {},
   "source": [
    "## Створення необхідних функцій"
   ]
  },
  {
   "cell_type": "code",
   "execution_count": 2,
   "metadata": {},
   "outputs": [],
   "source": [
    "def preprocess_frame(frame: np.ndarray, blur_strength: int, threshold: float, *roi_polygons: list) -> np.ndarray: \n",
    "    preprocessed_frame = cv2.cvtColor(frame, cv2.COLOR_BGR2GRAY)\n",
    "    preprocessed_frame = cv2.equalizeHist(preprocessed_frame)\n",
    "\n",
    "    preprocessed_frame = cv2.GaussianBlur(preprocessed_frame, (blur_strength, blur_strength), 0)\n",
    "\n",
    "    kernel = cv2.getStructuringElement(cv2.MORPH_ELLIPSE, (1, 1))\n",
    "    preprocessed_frame = cv2.morphologyEx(preprocessed_frame, cv2.MORPH_CLOSE, kernel)\n",
    "    preprocessed_frame = cv2.erode(preprocessed_frame, kernel, iterations = 1)\n",
    "    preprocessed_frame = cv2.dilate(preprocessed_frame, kernel, iterations = 1)\n",
    "\n",
    "    preprocessed_frame = cv2.Canny(preprocessed_frame, threshold / 2, threshold)\n",
    "\n",
    "    mask = np.zeros_like(preprocessed_frame)\n",
    "\n",
    "    for roi_polygon_vertices in roi_polygons:\n",
    "        cv2.fillPoly(mask, [np.array(roi_polygon_vertices, dtype = np.int32)], 255)\n",
    "\n",
    "    preprocessed_frame = cv2.bitwise_and(preprocessed_frame, mask)\n",
    "\n",
    "    return preprocessed_frame\n",
    "\n",
    "def determine_obejcts_rectangles(frame: np.ndarray, width_min: int, width_max: int, height_min: int, height_max: int, aspect_ratio_min: float, aspect_ratio_max: float) -> list:\n",
    "    objects_rectangles = []\n",
    "\n",
    "    contours, _ = cv2.findContours(frame, cv2.RETR_EXTERNAL, cv2.CHAIN_APPROX_SIMPLE)\n",
    "\n",
    "    for contour in contours:\n",
    "        x, y, width, height = cv2.boundingRect(contour)\n",
    "        aspect_ratio = float(width) / height\n",
    "\n",
    "        if (width_min < width < width_max) and (height_min < height < height_max) and (aspect_ratio_min < aspect_ratio < aspect_ratio_max):\n",
    "            objects_rectangles.append((x, y, width, height))\n",
    "\n",
    "    objects_rectangles = [r1 for r1 in objects_rectangles if not any((r1[0] > r2[0] and r1[1] > r2[1] and r1[0] + r1[2] < r2[0] + r2[2] and r1[1] + r1[3] < r2[1] + r2[3] and r1[2] * r1[3] < r2[2] * r2[3]) for r2 in objects_rectangles if r1 != r2)]\n",
    "\n",
    "    return objects_rectangles\n",
    "\n",
    "def overlay_objects_rectangles(frame: np.ndarray, rectangles: list, roi_title: str = \"\", color: tuple = (0, 255, 0), thickness: int = 2) -> np.ndarray:\n",
    "    ROI_TITLE_OFFSET = 10\n",
    "\n",
    "    FONT_SCALE = 0.5\n",
    "    FONT_LINE_TYPE = 2\n",
    "\n",
    "    for (x, y, width, height) in rectangles:\n",
    "        cv2.rectangle(frame, (x, y), (x + width, y + height), color, thickness)\n",
    "\n",
    "        if roi_title:\n",
    "            cv2.putText(frame, roi_title, (x, y - ROI_TITLE_OFFSET), cv2.FONT_HERSHEY_SIMPLEX, FONT_SCALE, color, FONT_LINE_TYPE)\n",
    "\n",
    "    return frame"
   ]
  },
  {
   "cell_type": "markdown",
   "metadata": {},
   "source": [
    "---"
   ]
  },
  {
   "cell_type": "markdown",
   "metadata": {},
   "source": [
    "# Основний етап"
   ]
  },
  {
   "cell_type": "markdown",
   "metadata": {},
   "source": [
    "## Застосування на прикладі відео"
   ]
  },
  {
   "cell_type": "code",
   "execution_count": 3,
   "metadata": {},
   "outputs": [],
   "source": [
    "KEY_ESCAPE = 27\n",
    "\n",
    "CAPTURE = cv2.VideoCapture(\"video.mp4\")\n",
    "FPS = int(CAPTURE.get(cv2.CAP_PROP_FPS))\n",
    "\n",
    "THRESHOLD = 250\n",
    "BLUR_STRENGTH = 5\n",
    "\n",
    "WIDTH_MIN = 55\n",
    "WIDTH_MAX = 110\n",
    "HEIGHT_MIN = 30\n",
    "HEIGHT_MAX = 55\n",
    "ASPECT_RATIO_MIN = 1.25\n",
    "ASPECT_RATIO_MAX = 3.75\n",
    "\n",
    "FRAME_HEIGHT, FRAME_WIDTH = CAPTURE.read()[1].shape[:2]\n",
    "\n",
    "FRAME_HALF_HEIGHT = FRAME_HEIGHT / 2\n",
    "\n",
    "OFFSET_MARKUP = 45\n",
    "OFFSET_TOP_BOUNDS = 110\n",
    "OFFSET_BOTTOM_BOUNDS = 75\n",
    "\n",
    "ROI_TOP_ROAD = [(0, OFFSET_TOP_BOUNDS),\n",
    "                (0, FRAME_HALF_HEIGHT - OFFSET_MARKUP),\n",
    "                (FRAME_WIDTH, FRAME_HALF_HEIGHT - OFFSET_MARKUP),\n",
    "                (FRAME_WIDTH, OFFSET_TOP_BOUNDS)]\n",
    "\n",
    "ROI_BOTTOM_ROAD = [(0, FRAME_HEIGHT - OFFSET_BOTTOM_BOUNDS),\n",
    "                   (0, FRAME_HALF_HEIGHT + OFFSET_MARKUP),\n",
    "                   (FRAME_WIDTH, FRAME_HALF_HEIGHT + OFFSET_MARKUP),\n",
    "                   (FRAME_WIDTH, FRAME_HEIGHT - OFFSET_BOTTOM_BOUNDS)]\n",
    "\n",
    "ROI_TITLE = \"Car\"\n",
    "\n",
    "while CAPTURE.isOpened():\n",
    "    ret, frame = CAPTURE.read()\n",
    "\n",
    "    if not ret:\n",
    "        break\n",
    "\n",
    "    preprocessed_frame = preprocess_frame(frame, BLUR_STRENGTH, THRESHOLD, ROI_TOP_ROAD, ROI_BOTTOM_ROAD)\n",
    "    objects_roi = determine_obejcts_rectangles(preprocessed_frame, WIDTH_MIN, WIDTH_MAX, HEIGHT_MIN, HEIGHT_MAX, ASPECT_RATIO_MIN, ASPECT_RATIO_MAX)\n",
    "\n",
    "    processed_frame = overlay_objects_rectangles(frame, objects_roi, ROI_TITLE)\n",
    "\n",
    "    cv2.imshow(\"\", processed_frame)\n",
    "\n",
    "    if cv2.waitKey(FPS) & 0xFF == KEY_ESCAPE:\n",
    "        break\n",
    "\n",
    "CAPTURE.release()\n",
    "cv2.destroyAllWindows()"
   ]
  }
 ],
 "metadata": {
  "kernelspec": {
   "display_name": "Python 3",
   "language": "python",
   "name": "python3"
  },
  "language_info": {
   "codemirror_mode": {
    "name": "ipython",
    "version": 3
   },
   "file_extension": ".py",
   "mimetype": "text/x-python",
   "name": "python",
   "nbconvert_exporter": "python",
   "pygments_lexer": "ipython3",
   "version": "3.11.0"
  }
 },
 "nbformat": 4,
 "nbformat_minor": 2
}
