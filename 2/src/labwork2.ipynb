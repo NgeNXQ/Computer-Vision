{
 "cells": [
  {
   "cell_type": "markdown",
   "metadata": {},
   "source": [
    "# Лабораторна робота № 2. ІП-14 Бабіч Денис"
   ]
  },
  {
   "cell_type": "markdown",
   "metadata": {},
   "source": [
    "## Імпортування необхідних модулів"
   ]
  },
  {
   "cell_type": "code",
   "execution_count": 1,
   "metadata": {},
   "outputs": [],
   "source": [
    "import numpy as np\n",
    "from PIL import Image\n",
    "from enum import Enum"
   ]
  },
  {
   "cell_type": "markdown",
   "metadata": {},
   "source": [
    "## Cтворення допоміжних функцій"
   ]
  },
  {
   "cell_type": "code",
   "execution_count": 2,
   "metadata": {},
   "outputs": [],
   "source": [
    "def read_image(path: str) -> Image:\n",
    "    return Image.open(path).convert(\"RGB\")\n",
    "\n",
    "def view_image(image: Image) -> None:\n",
    "    image.show()\n",
    "\n",
    "def save_image(image: Image, file_path: str) -> None:\n",
    "    image.save(file_path)"
   ]
  },
  {
   "cell_type": "markdown",
   "metadata": {},
   "source": [
    "## Виконання завдання"
   ]
  },
  {
   "cell_type": "markdown",
   "metadata": {},
   "source": [
    "### Підготовка до виконання"
   ]
  },
  {
   "cell_type": "code",
   "execution_count": 3,
   "metadata": {},
   "outputs": [],
   "source": [
    "image = read_image(\"../res/image.jpg\")\n",
    "\n",
    "view_image(image)"
   ]
  },
  {
   "cell_type": "markdown",
   "metadata": {},
   "source": [
    "### Постобробка: Зміна яскравості"
   ]
  },
  {
   "cell_type": "markdown",
   "metadata": {},
   "source": [
    "#### Функція"
   ]
  },
  {
   "cell_type": "code",
   "execution_count": 4,
   "metadata": {},
   "outputs": [],
   "source": [
    "def change_brightness(image: Image, factor: float) -> Image:\n",
    "    COLOR_CHANNEL_MIN_VALUE = 0\n",
    "    COLOR_CHANNEL_MAX_VALUE = 255\n",
    "\n",
    "    processed_image = np.array(image, dtype = np.float32)\n",
    "    processed_image *= factor\n",
    "    processed_image = np.clip(processed_image, COLOR_CHANNEL_MIN_VALUE, COLOR_CHANNEL_MAX_VALUE)\n",
    "    \n",
    "    return Image.fromarray(processed_image.astype(np.uint8))"
   ]
  },
  {
   "cell_type": "markdown",
   "metadata": {},
   "source": [
    "#### Приклад використання № 1"
   ]
  },
  {
   "cell_type": "code",
   "execution_count": 5,
   "metadata": {},
   "outputs": [],
   "source": [
    "brighter_image = change_brightness(image, 1.5)\n",
    "\n",
    "view_image(brighter_image)\n",
    "\n",
    "save_image(brighter_image, \"../res/brighter_image.jpg\")"
   ]
  },
  {
   "cell_type": "markdown",
   "metadata": {},
   "source": [
    "#### Приклад використання № 2"
   ]
  },
  {
   "cell_type": "code",
   "execution_count": 6,
   "metadata": {},
   "outputs": [],
   "source": [
    "darker_image = change_brightness(image, 0.5)\n",
    "\n",
    "view_image(darker_image)\n",
    "\n",
    "save_image(darker_image, \"../res/darker_image.jpg\")"
   ]
  },
  {
   "cell_type": "markdown",
   "metadata": {},
   "source": [
    "### Постобробка: Відтінки сірого"
   ]
  },
  {
   "cell_type": "markdown",
   "metadata": {},
   "source": [
    "#### Функція"
   ]
  },
  {
   "cell_type": "code",
   "execution_count": 7,
   "metadata": {},
   "outputs": [],
   "source": [
    "def apply_grayscale(image: Image) -> Image:\n",
    "    width, height = image.size\n",
    "    processed_image = image.copy()\n",
    "\n",
    "    for x in range(width):\n",
    "        for y in range(height):\n",
    "            r, g, b = image.getpixel((x, y))\n",
    "            gray_value = int((r + g + b) / 3)\n",
    "            processed_image.putpixel((x, y), (gray_value, gray_value, gray_value))\n",
    "\n",
    "    return processed_image"
   ]
  },
  {
   "cell_type": "markdown",
   "metadata": {},
   "source": [
    "#### Приклад використання"
   ]
  },
  {
   "cell_type": "code",
   "execution_count": 8,
   "metadata": {},
   "outputs": [],
   "source": [
    "grayscale_image = apply_grayscale(image)\n",
    "\n",
    "view_image(grayscale_image)\n",
    "\n",
    "save_image(grayscale_image, \"../res/grayscale_image.jpg\")"
   ]
  },
  {
   "cell_type": "markdown",
   "metadata": {},
   "source": [
    "### Постобробка: Негатив"
   ]
  },
  {
   "cell_type": "markdown",
   "metadata": {},
   "source": [
    "#### Функція"
   ]
  },
  {
   "cell_type": "code",
   "execution_count": 9,
   "metadata": {},
   "outputs": [],
   "source": [
    "def apply_negative(image: Image) -> Image:\n",
    "    COLOR_CHANNEL_MAX_VALUE = 255\n",
    "\n",
    "    processed_image = np.array(image)\n",
    "    processed_image = COLOR_CHANNEL_MAX_VALUE - processed_image\n",
    "\n",
    "    return Image.fromarray(processed_image.astype(np.uint8))"
   ]
  },
  {
   "cell_type": "markdown",
   "metadata": {},
   "source": [
    "#### Приклад використання"
   ]
  },
  {
   "cell_type": "code",
   "execution_count": 10,
   "metadata": {},
   "outputs": [],
   "source": [
    "negative_image = apply_negative(image)\n",
    "\n",
    "view_image(negative_image)\n",
    "\n",
    "save_image(negative_image, \"../res/negative_image.jpg\")"
   ]
  },
  {
   "cell_type": "markdown",
   "metadata": {},
   "source": [
    "### Постобробка: Сепія в градієнтах (від центру, або до центра)"
   ]
  },
  {
   "cell_type": "markdown",
   "metadata": {},
   "source": [
    "#### Функція"
   ]
  },
  {
   "cell_type": "code",
   "execution_count": 11,
   "metadata": {},
   "outputs": [],
   "source": [
    "class SepiaTone(Enum):\n",
    "    CLASSIC = [[0.393, 0.769, 0.189],\n",
    "               [0.349, 0.686, 0.168],\n",
    "               [0.272, 0.534, 0.131]]\n",
    "    \n",
    "    WARM = [[0.3588, 0.7044, 0.1368],\n",
    "            [0.299, 0.587, 0.114],\n",
    "            [0.2392, 0.4696, 0.0912]]\n",
    "    \n",
    "    COLD = [[0.3, 0.7, 0.1],\n",
    "            [0.25, 0.6, 0.08],\n",
    "            [0.2, 0.5, 0.05]]\n",
    "\n",
    "def apply_sepia(image: Image, tone: SepiaTone = SepiaTone.CLASSIC) -> Image:\n",
    "    COLOR_CHANNEL_MIN_VALUE = 0\n",
    "    COLOR_CHANNEL_MAX_VALUE = 255\n",
    "\n",
    "    processed_image = np.array(image)\n",
    "\n",
    "    sepia_filter_matrix = np.array(tone.value)\n",
    "    processed_image = np.dot(processed_image, sepia_filter_matrix.T)\n",
    "    processed_image = np.clip(processed_image, COLOR_CHANNEL_MIN_VALUE, COLOR_CHANNEL_MAX_VALUE)\n",
    "\n",
    "    return Image.fromarray(processed_image.astype(np.uint8))"
   ]
  },
  {
   "cell_type": "markdown",
   "metadata": {},
   "source": [
    "#### Приклад використання № 1"
   ]
  },
  {
   "cell_type": "code",
   "execution_count": 12,
   "metadata": {},
   "outputs": [],
   "source": [
    "sepia_image_classic = apply_sepia(image, SepiaTone.CLASSIC)\n",
    "\n",
    "view_image(sepia_image_classic)\n",
    "\n",
    "save_image(sepia_image_classic, \"../res/sepia_image_classic.jpg\")"
   ]
  },
  {
   "cell_type": "markdown",
   "metadata": {},
   "source": [
    "#### Приклад використання № 2"
   ]
  },
  {
   "cell_type": "code",
   "execution_count": 14,
   "metadata": {},
   "outputs": [],
   "source": [
    "sepia_image_warm = apply_sepia(image, SepiaTone.WARM)\n",
    "\n",
    "view_image(sepia_image_warm)\n",
    "\n",
    "save_image(sepia_image_warm, \"../res/sepia_image_warm.jpg\")"
   ]
  },
  {
   "cell_type": "markdown",
   "metadata": {},
   "source": [
    "#### Приклад використання № 3"
   ]
  },
  {
   "cell_type": "code",
   "execution_count": 15,
   "metadata": {},
   "outputs": [],
   "source": [
    "sepia_image_cold = apply_sepia(image, SepiaTone.COLD)\n",
    "\n",
    "view_image(sepia_image_cold)\n",
    "\n",
    "save_image(sepia_image_cold, \"../res/sepia_image_cold.jpg\")"
   ]
  },
  {
   "cell_type": "markdown",
   "metadata": {},
   "source": [
    "### Постобробка: Шум"
   ]
  },
  {
   "cell_type": "markdown",
   "metadata": {},
   "source": [
    "#### Функція"
   ]
  },
  {
   "cell_type": "code",
   "execution_count": 13,
   "metadata": {},
   "outputs": [],
   "source": [
    "def apply_noise(image: Image, intensity: float) -> Image:\n",
    "    COLOR_CHANNEL_MIN_VALUE = 0\n",
    "    COLOR_CHANNEL_MAX_VALUE = 255\n",
    "\n",
    "    processed_image = np.array(image)\n",
    "    noise_filter = np.random.uniform(low = -intensity, high = intensity, size = processed_image.shape)\n",
    "    processed_image = np.clip(processed_image + noise_filter, COLOR_CHANNEL_MIN_VALUE, COLOR_CHANNEL_MAX_VALUE)\n",
    "    \n",
    "    return Image.fromarray(processed_image.astype(np.uint8))"
   ]
  },
  {
   "cell_type": "markdown",
   "metadata": {},
   "source": [
    "#### Приклад використання № 1"
   ]
  },
  {
   "cell_type": "code",
   "execution_count": 16,
   "metadata": {},
   "outputs": [],
   "source": [
    "low_noise_image = apply_noise(image, 30)\n",
    "\n",
    "view_image(low_noise_image)\n",
    "\n",
    "save_image(low_noise_image, \"../res/low_noise_image.jpg\")"
   ]
  },
  {
   "cell_type": "markdown",
   "metadata": {},
   "source": [
    "#### Приклад використання № 2"
   ]
  },
  {
   "cell_type": "code",
   "execution_count": 18,
   "metadata": {},
   "outputs": [],
   "source": [
    "high_noise_image = apply_noise(image, 100)\n",
    "\n",
    "view_image(high_noise_image)\n",
    "\n",
    "save_image(high_noise_image, \"../res/high_noise_image.jpg\")"
   ]
  }
 ],
 "metadata": {
  "kernelspec": {
   "display_name": "Python 3",
   "language": "python",
   "name": "python3"
  },
  "language_info": {
   "codemirror_mode": {
    "name": "ipython",
    "version": 3
   },
   "file_extension": ".py",
   "mimetype": "text/x-python",
   "name": "python",
   "nbconvert_exporter": "python",
   "pygments_lexer": "ipython3",
   "version": "3.11.0"
  }
 },
 "nbformat": 4,
 "nbformat_minor": 2
}
